{
 "cells": [
  {
   "cell_type": "raw",
   "id": "b7b00927-49b9-4fc5-9b3d-56b6f436f3c6",
   "metadata": {},
   "source": [
    "This dataset contains detailed information about 30-day readmission and mortality rates of U.S. hospitals. It is an essential tool for stakeholders aiming to identify opportunities for improving healthcare quality and performance across the country. Providers benefit by having access to comprehensive data regarding readmission, mortality rate, score, measure start/end dates, compared average to national as well as other pertinent metrics like zip codes, phone numbers and county names. Use this data set to conduct evaluations of how hospitals are meeting industry standards from a quality and outcomes perspective in order to make more informed decisions when designing patient care strategies and policies"
   ]
  },
  {
   "cell_type": "raw",
   "id": "9711b163-0f2a-4afc-83c6-170c62cc4aac",
   "metadata": {},
   "source": [
    "This dataset provides data on 30-day readmission and mortality rates of U.S. hospitals, useful in understanding the quality of healthcare being provided. This data can provide insight into the effectiveness of treatments, patient care, and staff performance at different healthcare facilities throughout the country.\n",
    "\n",
    "In order to use this dataset effectively, it is important to understand each column and how best to interpret them. The ‘Hospital Name’ column displays the name of the facility; ‘Address’ lists a street address for the hospital; ‘City’ indicates its geographic location; ‘State’ specifies a two-letter abbreviation for that state; ‘ZIP Code’ provides each facility's 5 digit zip code address; 'County Name' specifies what county that particular hospital resides in; 'Phone number' lists a phone contact for any given facility ;'Measure Name' identifies which measure is being recorded (for instance: Elective Delivery Before 39 Weeks); 'Score' value reflects an average score based on patient feedback surveys taken over time frame listed under ' Measure Start Date.' Then there are also columns tracking both lower estimates ('Lower Estimate') as well as higher estimates ('Higher Estimate'); these create variability that can be tracked by researchers seeking further answers or formulating future studies on this topic or field.; Lastly there is one more measure oissociated with this set: ' Footnote,' which may highlight any addional important details pertinent to analysis such as numbers outlying National averages etc..\n",
    "\n",
    "This data set can be used by hospitals, research facilities and other interested parties in providing inciteful information when making decisions about patient care standards throughout America . It can help find patterns about readmitis/mortality along county lines or answer questions about preformance fluctuations between different hospital locations over an extended amount of time. So if you are ever curious about 30 days readmitted within US Hospitals don't hesitate to dive into this insightful dataset!"
   ]
  },
  {
   "cell_type": "raw",
   "id": "7d003c6c-5b19-472d-b6fa-774ebe5f6ac3",
   "metadata": {},
   "source": [
    "Column name\tDescription\n",
    "Hospital Name\tName of the hospital. (String)\n",
    "Address\tStreet address of the hospital. (String)\n",
    "City\tCity where the hospital is located. (String)\n",
    "State\tState where the hospital is located. (String)\n",
    "ZIP Code\tZIP code of the hospital. (Integer)\n",
    "County Name\tCounty where the hospital is located. (String)\n",
    "Phone Number\tPhone number of the hospital. (String)\n",
    "Measure Name\tName of the metric being studied. (String)\n",
    "Compared to National\tComparison of the hospital's metric to the national average. (String)\n",
    "Denominator\tNumber of patients used to calculate the measure. (Integer)\n",
    "Score\tRating based weight matrices derived from other metrics for ease-of-comparison purposes. (Integer)\n",
    "Lower Estimate\tLower estimate of the score. (Integer)\n",
    "Higher Estimate\tHigher estimate of the score. (Integer)\n",
    "Footnote\tAdditional information about the metric. (String)\n",
    "Measure Start Date\tDate when the measurement was taken. (Date)\n",
    "Measure End Date\tDate when the measurement ended. (Date)\n",
    "Location\tLocation of the hospital. (String)"
   ]
  },
  {
   "cell_type": "raw",
   "id": "a3698470-fe60-4d4c-a095-993d8584abca",
   "metadata": {},
   "source": [
    "https://www.kaggle.com/datasets/thedevastator/us-healthcare-readmissions-and-mortality/data\n",
    "\n",
    "from https://data.world/health"
   ]
  }
 ],
 "metadata": {
  "kernelspec": {
   "display_name": "Python 3 (ipykernel)",
   "language": "python",
   "name": "python3"
  },
  "language_info": {
   "codemirror_mode": {
    "name": "ipython",
    "version": 3
   },
   "file_extension": ".py",
   "mimetype": "text/x-python",
   "name": "python",
   "nbconvert_exporter": "python",
   "pygments_lexer": "ipython3",
   "version": "3.11.5"
  }
 },
 "nbformat": 4,
 "nbformat_minor": 5
}
